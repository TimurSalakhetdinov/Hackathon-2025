{
 "cells": [
  {
   "cell_type": "code",
   "execution_count": null,
   "id": "af7f0a2b",
   "metadata": {},
   "outputs": [],
   "source": [
    "import os\n",
    "import json\n",
    "import pandas as pd\n",
    "\n",
    "# Path to folder containing JSON files\n",
    "folder_path = '1_broken_tiles'\n",
    "\n",
    "# List to store extracted rows\n",
    "rows = []\n",
    "\n",
    "# Loop through all JSON files in the folder\n",
    "for file in os.listdir(folder_path):\n",
    "    if file.endswith('.json'):\n",
    "        json_path = os.path.join(folder_path, file)\n",
    "\n",
    "        with open(json_path, 'r') as f:\n",
    "            data = json.load(f)\n",
    "\n",
    "            # Navigate to the 'responses' list\n",
    "            responses = data.get(\"data\", {}).get(\"responses\", [])\n",
    "            for response in responses:\n",
    "                attachments = response.get(\"attachments\", [])\n",
    "                for att in attachments:\n",
    "                    url = att.get(\"url\")  # e.g. \"images/filename.jpg\"\n",
    "                    broken = att.get(\"broken\")  # e.g. \"yes\" or \"no\"\n",
    "\n",
    "                    if url and broken:\n",
    "                        rows.append({\"url\": url, \"broken\": broken})\n",
    "\n",
    "# Convert to DataFrame\n",
    "df = pd.DataFrame(rows)\n",
    "\n",
    "# Show preview\n",
    "display(df.head())"
   ]
  },
  {
   "cell_type": "code",
   "execution_count": null,
   "id": "3ea99e3a",
   "metadata": {},
   "outputs": [],
   "source": [
    "df.info()"
   ]
  },
  {
   "cell_type": "code",
   "execution_count": null,
   "id": "cf4533d7",
   "metadata": {},
   "outputs": [],
   "source": [
    "df['broken'].unique()"
   ]
  },
  {
   "cell_type": "code",
   "execution_count": null,
   "id": "7441c127",
   "metadata": {},
   "outputs": [],
   "source": [
    "df[df['broken'] == 'na']"
   ]
  },
  {
   "cell_type": "code",
   "execution_count": null,
   "id": "e001b156",
   "metadata": {},
   "outputs": [],
   "source": [
    "df[df['broken'] == 'yes']"
   ]
  },
  {
   "cell_type": "code",
   "execution_count": null,
   "id": "7c6c7473",
   "metadata": {},
   "outputs": [],
   "source": [
    "df['broken'].value_counts()"
   ]
  },
  {
   "cell_type": "code",
   "execution_count": null,
   "id": "a25b09a7",
   "metadata": {},
   "outputs": [],
   "source": [
    "import os\n",
    "import shutil\n",
    "import pandas as pd\n",
    "\n",
    "def copy_images_by_label(df, label_value, label_column, source_folder='images', target_folder='output'):\n",
    "    \"\"\"\n",
    "    Copy images from a DataFrame where label_column == label_value into a target folder.\n",
    "\n",
    "    Parameters:\n",
    "    - df: pandas DataFrame with at least a 'url' and label column\n",
    "    - label_value: e.g., 'yes' or 'no'\n",
    "    - label_column: column to filter on (e.g., 'broken')\n",
    "    - source_folder: folder where the images are located\n",
    "    - target_folder: destination folder where images will be copied\n",
    "    \"\"\"\n",
    "    filtered_df = df[df[label_column] == label_value]\n",
    "    os.makedirs(target_folder, exist_ok=True)\n",
    "\n",
    "    copied = 0\n",
    "    for _, row in filtered_df.iterrows():\n",
    "        filename = row['url']\n",
    "        src_path = os.path.join(source_folder, os.path.basename(filename))\n",
    "        dst_path = os.path.join(target_folder, os.path.basename(filename))\n",
    "\n",
    "        if os.path.exists(src_path):\n",
    "            shutil.copy(src_path, dst_path)\n",
    "            copied += 1\n",
    "        else:\n",
    "            print(f\"❌ File not found: {src_path}\")\n",
    "    \n",
    "    print(f\"✅ Copied {copied} files to '{target_folder}'\")"
   ]
  },
  {
   "cell_type": "code",
   "execution_count": null,
   "id": "952ebdec",
   "metadata": {},
   "outputs": [],
   "source": [
    "copy_images_by_label(df, 'yes', 'broken', target_folder='broken')\n",
    "copy_images_by_label(df, 'no', 'broken', target_folder='no_broken')"
   ]
  },
  {
   "cell_type": "code",
   "execution_count": null,
   "id": "75454201",
   "metadata": {},
   "outputs": [],
   "source": [
    "import os\n",
    "import shutil\n",
    "import random\n",
    "from pathlib import Path\n",
    "\n",
    "# 🗂️ Set your base dataset path\n",
    "base_path = Path(\"tile_dataset\")\n",
    "\n",
    "# 🔍 Source folders (all images & labels currently in train)\n",
    "img_dir = base_path / \"images/train\"\n",
    "lbl_dir = base_path / \"labels/train\"\n",
    "\n",
    "# 🎯 Target folders\n",
    "val_img_dir = base_path / \"images/val\"\n",
    "val_lbl_dir = base_path / \"labels/val\"\n",
    "\n",
    "# ✅ Create folders\n",
    "val_img_dir.mkdir(parents=True, exist_ok=True)\n",
    "val_lbl_dir.mkdir(parents=True, exist_ok=True)\n",
    "\n",
    "# 🎲 Split logic\n",
    "image_paths = list(img_dir.glob(\"*.jpg\")) + list(img_dir.glob(\"*.png\"))\n",
    "random.seed(42)\n",
    "val_ratio = 0.2\n",
    "val_images = random.sample(image_paths, int(len(image_paths) * val_ratio))\n",
    "\n",
    "# 🚚 Move images + labels to val/\n",
    "for img_path in val_images:\n",
    "    label_path = lbl_dir / img_path.with_suffix(\".txt\").name\n",
    "\n",
    "    shutil.move(img_path, val_img_dir / img_path.name)\n",
    "    \n",
    "    if label_path.exists():\n",
    "        shutil.move(label_path, val_lbl_dir / label_path.name)\n",
    "\n",
    "print(f\"✅ Moved {len(val_images)} images to validation set.\")"
   ]
  },
  {
   "cell_type": "code",
   "execution_count": null,
   "id": "632b07ce",
   "metadata": {},
   "outputs": [],
   "source": [
    "import yaml\n",
    "from pathlib import Path\n",
    "\n",
    "# Path to save the data.yaml file\n",
    "data_yaml_path = Path(\"tile_dataset/data.yaml\")\n",
    "\n",
    "# Define the structure\n",
    "data_yaml = {\n",
    "    \"path\": \"tile_dataset\",\n",
    "    \"train\": \"images/train\",\n",
    "    \"val\": \"images/val\",\n",
    "    \"names\": [\"broken_tile\"]\n",
    "}\n",
    "\n",
    "# Save it\n",
    "with open(data_yaml_path, \"w\") as f:\n",
    "    yaml.dump(data_yaml, f)\n",
    "\n",
    "print(f\"✅ data.yaml created at: {data_yaml_path.resolve()}\")"
   ]
  },
  {
   "cell_type": "code",
   "execution_count": null,
   "id": "c1c44e38",
   "metadata": {},
   "outputs": [],
   "source": [
    "pip install ultralytics"
   ]
  },
  {
   "cell_type": "code",
   "execution_count": null,
   "id": "ba0c8ce1",
   "metadata": {},
   "outputs": [],
   "source": [
    "from ultralytics import YOLO\n",
    "\n",
    "model = YOLO(\"yolov8n.pt\")  # Load pre-trained base model\n",
    "model.train(data=\"tile_dataset/data.yaml\", epochs=50, imgsz=640)"
   ]
  },
  {
   "cell_type": "code",
   "execution_count": null,
   "id": "59955eb3",
   "metadata": {},
   "outputs": [],
   "source": []
  }
 ],
 "metadata": {
  "kernelspec": {
   "display_name": ".venv",
   "language": "python",
   "name": "python3"
  },
  "language_info": {
   "codemirror_mode": {
    "name": "ipython",
    "version": 3
   },
   "file_extension": ".py",
   "mimetype": "text/x-python",
   "name": "python",
   "nbconvert_exporter": "python",
   "pygments_lexer": "ipython3",
   "version": "3.13.0"
  }
 },
 "nbformat": 4,
 "nbformat_minor": 5
}
